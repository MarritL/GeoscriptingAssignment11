{
 "cells": [
  {
   "cell_type": "markdown",
   "metadata": {},
   "source": [
    "Before you turn this problem in, make sure everything runs as expected. First, **restart the kernel** (in the menubar, select Kernel$\\rightarrow$Restart) and then **run all cells** (in the menubar, select Cell$\\rightarrow$Run All).\n",
    "\n",
    "Make sure you fill in any place that says `YOUR CODE HERE` or \"YOUR ANSWER HERE\", as well as your name and collaborators below:"
   ]
  },
  {
   "cell_type": "code",
   "execution_count": null,
   "metadata": {},
   "outputs": [],
   "source": [
    "NAME = \"GISRSArtists\"\n",
    "COLLABORATORS = \"Anne-Juul Welsink and Marrit Leenstra\""
   ]
  },
  {
   "cell_type": "markdown",
   "metadata": {},
   "source": [
    "---"
   ]
  },
  {
   "cell_type": "markdown",
   "metadata": {
    "deletable": false,
    "editable": false,
    "nbgrader": {
     "checksum": "e79e110777493b76aa9958ae0531630a",
     "grade": false,
     "grade_id": "cell-e343ad28d6c9dacd",
     "locked": true,
     "schema_version": 1,
     "solution": false
    }
   },
   "source": [
    "# Assignment\n",
    "\n",
    "Wageningen University wants to determine the percentage of water on some parcels at the campus. Can you help?\n",
    "\n",
    "## Determine how much area (m2 and percentage) of the combined WUR parcels are covered by water by using the BGT WFS (typename = bgt:waterdeel) and visualize both the water area and parcels in a map.\n",
    "\n",
    "Wageningen University are specifically interested in parcels with \"perceelnummer\": ['10709', '10905', '10906', '10907', '10908', '10909', '11184', '11185', '11208', '11593']\n",
    "\n",
    "Work with a project structure. There is a jupyter notebook file (.ipynb) made available for you.\n",
    "You must fill in your code and assign your answers to specific names as specified within. You can import functions from a scripts folder as usual. If you find working in spyder more comfortable, you may first develop your solution in spyder, then copy over your code and check if it runs.\n",
    "\n",
    "In your script, after downloading and selecting correct parcels, make a bounding box of the parcels which you will use to download water areas (hint .envelope, .exterior). You can create these functions:\n",
    "\n",
    "\n",
    "    geocodePlacenameToCoordinate\n",
    "    reproject\n",
    "    downloadWFSToGeoDataFrame\n",
    "    calculatePercentageArea\n",
    "    makeWebmap or makeMap (for visualization you can choose to make a map with Folium or matplotlib)\n",
    "    getBoundingBox\n",
    "\n",
    "\n",
    "### assign your answers to variables with the name 'answer_fraction' (a fraction of 1) and 'answer_m2'\n",
    "\n",
    "Go easy on webservices! There is no need to use for loops or while statements to call web services multiple times! Upload your documented and well structured Python scripts to a GitLab repository.\n",
    "\n",
    "Hint: If you need some help how to make functions or how to import modules, have a look at the code in the Python refresher or in the cheat sheets mentioned in the Python refresher.\n",
    "\n"
   ]
  },
  {
   "cell_type": "code",
   "execution_count": 1,
   "metadata": {},
   "outputs": [],
   "source": [
    "#space for imports, feel free to add your own or add another cell with imports in them:\n",
    "import json\n",
    "from owslib.wfs import WebFeatureService\n",
    "import geopandas as gpd\n",
    "import pandas as pd\n",
    "from geopy.geocoders import Nominatim\n",
    "from pyproj import Proj, transform\n",
    "from python.reproject import reproject\n",
    "from python.geocodePlacenameToCoordinates import geocodePlacenameToCoordinates\n",
    "from python.downloadWFSToGeoDataFrame import downloadWFSToGeoDataFrame"
   ]
  },
  {
   "cell_type": "code",
   "execution_count": 2,
   "metadata": {
    "deletable": false,
    "nbgrader": {
     "checksum": "34d4c0a364fc9e7da1987aafd69bbda3",
     "grade": false,
     "grade_id": "cell-a71c1037b0ca57da",
     "locked": false,
     "schema_version": 1,
     "solution": true
    }
   },
   "outputs": [
    {
     "name": "stdout",
     "output_type": "stream",
     "text": [
      "173994.1578792833 444133.60329471016\n"
     ]
    },
    {
     "name": "stderr",
     "output_type": "stream",
     "text": [
      "/home/WUR/leens006/miniconda3/envs/vectorpython/lib/python3.7/site-packages/owslib/feature/wfs200.py:120: FutureWarning: The behavior of this method will change in future versions. Use specific 'len(elem)' or 'elem is not None' test instead.\n",
      "  if serviceproviderelem:\n"
     ]
    },
    {
     "name": "stdout",
     "output_type": "stream",
     "text": [
      "0    10708\n",
      "1     8782\n",
      "2    10384\n",
      "3     7233\n",
      "Name: perceelnummer, dtype: object\n",
      "Empty GeoDataFrame\n",
      "Columns: [geometry, kadastraleGemeenteCode, kadastralegrootte, logischtijdstipOntstaan, logischtijdstipVervallen, lokaalID, perceelnummer, perceelnummer_deltax, perceelnummer_deltay, perceelnummer_rotatie, plaatscoordinaten, sectie]\n",
      "Index: []\n"
     ]
    }
   ],
   "source": [
    "# get coordinates of Wageningen\n",
    "try:\n",
    "    wageningen = geocodePlacenameToCoordinates('Wageningen University')\n",
    "except:\n",
    "    print(\"Location not found\")\n",
    "\n",
    "# reproject to RD New\n",
    "x, y = reproject(wageningen, '4326', '28992')\n",
    "print(lng, lat)\n",
    "\n",
    "# download WFS parcels\n",
    "parcelsWFSUrl = 'https://geodata.nationaalgeoregister.nl/kadastralekaartv3/wfs'\n",
    "waterWFSUrl = 'https://geodata.nationaalgeoregister.nl/beta/bgt/wfs'\n",
    "version = '2.0.0'\n",
    "parcelsBBox = x-450, y+350, x-300, y+350\n",
    "parcelGDF = downloadWFSToGeoDataFrame(parcelsWFSUrl, version, parcelsBBox, 'kadastralekaartv3:perceel')\n",
    "print(parcelGDF['perceelnummer'])\n",
    "\n",
    "\n",
    "# select parcels\n",
    "#parcelArray = ['545', '320', '10906', '10907', '10908', '10909', '11184', '11185', '11208', '11593']\n",
    "#parcelArray = ['10709', '10905', '10906', '10907', '10908', '10909', '11184', '11185', '11208', '11593']\n",
    "print(parcelGDF[parcelGDF['perceelnummer'].isin(['10906', '10907', '10908', '10909', '11184', '11185', '11208', '11593'])])\n",
    "\n",
    "#print(selectedParcelsGDF)\n",
    "\n"
   ]
  },
  {
   "cell_type": "code",
   "execution_count": 4,
   "metadata": {},
   "outputs": [
    {
     "name": "stdout",
     "output_type": "stream",
     "text": [
      "0      False\n",
      "1      False\n",
      "2      False\n",
      "3      False\n",
      "4      False\n",
      "5      False\n",
      "6      False\n",
      "7      False\n",
      "8      False\n",
      "9      False\n",
      "10     False\n",
      "11     False\n",
      "12     False\n",
      "13     False\n",
      "14     False\n",
      "15     False\n",
      "16     False\n",
      "17     False\n",
      "18     False\n",
      "19     False\n",
      "20     False\n",
      "21     False\n",
      "22     False\n",
      "23     False\n",
      "24     False\n",
      "25     False\n",
      "26     False\n",
      "27     False\n",
      "28     False\n",
      "29     False\n",
      "       ...  \n",
      "970    False\n",
      "971    False\n",
      "972    False\n",
      "973    False\n",
      "974    False\n",
      "975    False\n",
      "976    False\n",
      "977    False\n",
      "978    False\n",
      "979    False\n",
      "980    False\n",
      "981    False\n",
      "982    False\n",
      "983    False\n",
      "984    False\n",
      "985    False\n",
      "986    False\n",
      "987    False\n",
      "988    False\n",
      "989    False\n",
      "990    False\n",
      "991    False\n",
      "992    False\n",
      "993    False\n",
      "994    False\n",
      "995    False\n",
      "996    False\n",
      "997    False\n",
      "998    False\n",
      "999    False\n",
      "Name: perceelnummer, Length: 1000, dtype: bool\n"
     ]
    }
   ],
   "source": [
    "print(parcelGDF['perceelnummer'].isin(['10709', '10905', '10906', '10907', '10908', '10909', '11184', '11185', '11208', '11593']))\n"
   ]
  },
  {
   "cell_type": "code",
   "execution_count": null,
   "metadata": {
    "deletable": false,
    "editable": false,
    "nbgrader": {
     "checksum": "90bdc1b40b4a62e29d8eb7a46a0c321d",
     "grade": true,
     "grade_id": "cell-7b28aeb052277bbb",
     "locked": true,
     "points": 6,
     "schema_version": 1,
     "solution": false
    }
   },
   "outputs": [],
   "source": [
    "#This cell is here to help you with finding trivial mistakes.\n",
    "\n",
    "assert type(answer_fraction) == float  , 'check if answer_fraction is a number with decimal'\n",
    "assert (answer_fraction<1.0) == True , 'check if answer_fraction is below 1'\n",
    "assert type(answer_m2) == float , 'check if answer_m2 is a number with decimal'\n"
   ]
  },
  {
   "cell_type": "code",
   "execution_count": null,
   "metadata": {
    "deletable": false,
    "editable": false,
    "nbgrader": {
     "checksum": "1fdb232ca722166f3ea3d8de02a29430",
     "grade": true,
     "grade_id": "cell-7ac7b1827f71a075",
     "locked": true,
     "points": 4,
     "schema_version": 1,
     "solution": false
    }
   },
   "outputs": [],
   "source": [
    "#This cell has hidden tests in it, don't remove or move. It won't return any errors for you.\n"
   ]
  },
  {
   "cell_type": "markdown",
   "metadata": {
    "deletable": false,
    "editable": false,
    "nbgrader": {
     "checksum": "a5d6ba3301763bc9dd1fd96b287ef454",
     "grade": false,
     "grade_id": "cell-d2727fc56bb01065",
     "locked": true,
     "schema_version": 1,
     "solution": false
    }
   },
   "source": [
    "### Now plot a map of the water features and the administrative parcels surrounding them"
   ]
  },
  {
   "cell_type": "code",
   "execution_count": null,
   "metadata": {
    "deletable": false,
    "nbgrader": {
     "checksum": "921640bb523d3152bc0da701b6e9ad14",
     "grade": true,
     "grade_id": "cell-37b9d31dd6747386",
     "locked": false,
     "points": 1,
     "schema_version": 1,
     "solution": true
    }
   },
   "outputs": [],
   "source": [
    "#Plot the map\n",
    "\n",
    "# YOUR CODE HERE\n",
    "raise NotImplementedError()"
   ]
  },
  {
   "cell_type": "markdown",
   "metadata": {
    "deletable": false,
    "editable": false,
    "nbgrader": {
     "checksum": "57d16ecb1c166905e5fe98becd169105",
     "grade": false,
     "grade_id": "cell-1ef53c1e930e48b5",
     "locked": true,
     "schema_version": 1,
     "solution": false
    }
   },
   "source": [
    "### Bonus: Calculate how much area (m2 and fraction) is water, per parcel. Present result nicely summarized in one table and also in a nice-looking map visualization (further below) of the relevant parcels and their (partial) coverage by water.\n",
    "\n",
    "#### to be awarded points, assign your answer to a pandas DataFrame object named 'answer_bonus', which in turn accepts a python dictionary as an input. Note that the \"column names\" (called 'keys' when in a dictionary) have to be parcelID, m2, and fraction (order does not matter)\n",
    "\n",
    "example: \n",
    "\n",
    "`answer_dict = {'parcelID': [1, 2], 'm2': [3, 4], 'fraction': [5, 6]}`\n",
    "\n",
    "`answer_bonus=pandas.DataFrame(data=answer_dict)`\n",
    "\n",
    "to show your table, just type line with answer_bonus and hit enter, or use print(answer_bonus)"
   ]
  },
  {
   "cell_type": "code",
   "execution_count": null,
   "metadata": {
    "deletable": false,
    "nbgrader": {
     "checksum": "ef59b135af60118332249c7a8487437a",
     "grade": false,
     "grade_id": "cell-71f4e5f5395d85d4",
     "locked": false,
     "schema_version": 1,
     "solution": true
    }
   },
   "outputs": [],
   "source": [
    "#Section for calculation and present table\n",
    "\n",
    "# YOUR CODE HERE\n",
    "raise NotImplementedError()"
   ]
  },
  {
   "cell_type": "code",
   "execution_count": null,
   "metadata": {
    "deletable": false,
    "editable": false,
    "nbgrader": {
     "checksum": "784fb72fce6bd663f3199de8d304fb3e",
     "grade": true,
     "grade_id": "cell-790384f59e4b5666",
     "locked": true,
     "points": 1,
     "schema_version": 1,
     "solution": false
    }
   },
   "outputs": [],
   "source": [
    "\n",
    "assert type(answer_bonus) == pd.core.frame.DataFrame, 'check if its a pandas dataframe'\n",
    "assert 'parcelID' and 'm2' and 'fraction' in list(answer_bonus.columns.values) , 'check if the columns are named correctly'\n"
   ]
  },
  {
   "cell_type": "code",
   "execution_count": null,
   "metadata": {
    "deletable": false,
    "nbgrader": {
     "checksum": "4d6b03c68f32cb481284579ed32b6bc4",
     "grade": true,
     "grade_id": "cell-9e0cd5287f7cb064",
     "locked": false,
     "points": 1,
     "schema_version": 1,
     "solution": true
    }
   },
   "outputs": [],
   "source": [
    "#Section for plotting map\n",
    "\n",
    "# YOUR CODE HERE\n",
    "raise NotImplementedError()"
   ]
  }
 ],
 "metadata": {
  "kernelspec": {
   "display_name": "Python 3",
   "language": "python",
   "name": "python3"
  },
  "language_info": {
   "codemirror_mode": {
    "name": "ipython",
    "version": 3
   },
   "file_extension": ".py",
   "mimetype": "text/x-python",
   "name": "python",
   "nbconvert_exporter": "python",
   "pygments_lexer": "ipython3",
   "version": "3.7.2"
  }
 },
 "nbformat": 4,
 "nbformat_minor": 2
}
