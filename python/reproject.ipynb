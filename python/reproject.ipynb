{
 "cells": [
  {
   "cell_type": "code",
   "execution_count": null,
   "metadata": {},
   "outputs": [],
   "source": [
    "def reproject(location, oldProjCode, newProjCode):\n",
    "    \"\"\"Reproject location point\n",
    "    \n",
    "    :location: location tuple (latitude, longitude)\n",
    "    :oldProjCode: current epsg projection code for specified the location\n",
    "    :newProjCode: new epsg projection code for specified the location\n",
    "    return: lat, lng: tuple of latitude and longitude\n",
    "    \"\"\"\n",
    "    inProj = Proj(init= 'epsg:'+ oldProjCode) \n",
    "    outProj = Proj(init= 'epsg:' + newProjCode) \n",
    "    lat,lng = transform(inProj, outProj, location.longitude, location.latitude)\n",
    "    return (lat,lng)"
   ]
  }
 ],
 "metadata": {
  "kernelspec": {
   "display_name": "Python 3",
   "language": "python",
   "name": "python3"
  },
  "language_info": {
   "codemirror_mode": {
    "name": "ipython",
    "version": 3
   },
   "file_extension": ".py",
   "mimetype": "text/x-python",
   "name": "python",
   "nbconvert_exporter": "python",
   "pygments_lexer": "ipython3",
   "version": "3.7.2"
  }
 },
 "nbformat": 4,
 "nbformat_minor": 2
}
