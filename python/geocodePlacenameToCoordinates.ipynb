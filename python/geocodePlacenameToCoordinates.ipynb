{
 "cells": [
  {
   "cell_type": "code",
   "execution_count": null,
   "metadata": {},
   "outputs": [],
   "source": [
    "def geocodePlacenameToCoordinates(placename):\n",
    "    \"\"\" Get the coordinates of a specified location\n",
    "    \n",
    "    :placename: location to find the coordinates for\n",
    "    :returns: location information\n",
    "    \"\"\"\n",
    "    geolocator = Nominatim(user_agent=\"specify_random_user_agent\")\n",
    "    location = geolocator.geocode(placename)\n",
    "    return location"
   ]
  }
 ],
 "metadata": {
  "kernelspec": {
   "display_name": "Python 3",
   "language": "python",
   "name": "python3"
  },
  "language_info": {
   "codemirror_mode": {
    "name": "ipython",
    "version": 3
   },
   "file_extension": ".py",
   "mimetype": "text/x-python",
   "name": "python",
   "nbconvert_exporter": "python",
   "pygments_lexer": "ipython3",
   "version": "3.7.2"
  }
 },
 "nbformat": 4,
 "nbformat_minor": 2
}
